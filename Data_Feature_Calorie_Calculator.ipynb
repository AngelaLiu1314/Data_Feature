{
  "nbformat": 4,
  "nbformat_minor": 0,
  "metadata": {
    "colab": {
      "provenance": [],
      "authorship_tag": "ABX9TyOOr9vzUduXpfpwWEjJR6ag",
      "include_colab_link": true
    },
    "kernelspec": {
      "name": "python3",
      "display_name": "Python 3"
    },
    "language_info": {
      "name": "python"
    }
  },
  "cells": [
    {
      "cell_type": "markdown",
      "metadata": {
        "id": "view-in-github",
        "colab_type": "text"
      },
      "source": [
        "<a href=\"https://colab.research.google.com/github/AngelaLiu1314/Data_Feature/blob/main/Data_Feature_Calorie_Calculator.ipynb\" target=\"_parent\"><img src=\"https://colab.research.google.com/assets/colab-badge.svg\" alt=\"Open In Colab\"/></a>"
      ]
    },
    {
      "cell_type": "code",
      "source": [
        "#This is where all the keys and app IDs are accessed.\n",
        "from google.colab import userdata\n",
        "\n",
        "EDAMAN_RECIPIE_KEY = userdata.get('EDAMAN_RECIPIE_KEY')\n",
        "\n",
        "if EDAMAN_RECIPIE_KEY:\n",
        "    print(\"Recipie API key is set!\")\n",
        "    EDAMAN_RECIPIE_KEY = EDAMAN_RECIPIE_KEY.strip()\n",
        "else:\n",
        "    print(\"Failed to set Recipie API key. Check your secret setup.\")\n",
        "\n",
        "EDAMAN_RECIPIE_APPID = userdata.get('EDAMAN_RECIPIE_APPID')\n",
        "\n",
        "if EDAMAN_RECIPIE_APPID:\n",
        "    print(\"Recipie API appid is set!\")\n",
        "else:\n",
        "    print(\"Failed to set Recipie appid key. Check your secret setup.\")\n",
        "\n",
        "EDAMAN_NUTRITION_KEY = userdata.get('EDAMAN_NUTRITION_KEY')\n",
        "\n",
        "if EDAMAN_NUTRITION_KEY:\n",
        "    print(\"Nutrition API key is set!\")\n",
        "else:\n",
        "    print(\"Failed to set Nutrition API key. Check your secret setup.\")\n",
        "\n",
        "EDAMAN_NUTRITION_APPID = userdata.get('EDAMAN_NUTRITION_APPID')\n",
        "\n",
        "if EDAMAN_NUTRITION_APPID:\n",
        "    print(\"Nutrition API appid is set!\")\n",
        "else:\n",
        "    print(\"Failed to set Nutrition API appid. Check your secret setup.\")\n"
      ],
      "metadata": {
        "id": "ZJ2KqXsfrfVv"
      },
      "execution_count": null,
      "outputs": []
    },
    {
      "cell_type": "code",
      "source": [
        "import requests\n",
        "\n",
        "# Function to get recipie based on 1 main ingredient(from EDAMAN RECIPIE API)\n",
        "def get_recipie(ingredient):\n",
        "    url = f'https://api.edamam.com/api/recipes/v2?type=public&q={ingredient}&app_id={EDAMAN_RECIPIE_APPID}&app_key={EDAMAN_RECIPIE_KEY}'\n",
        "    response = requests.get(url)\n",
        "    if response.status_code == 200:\n",
        "        data = response.json()\n",
        "        first_recipie = data['hits'][0]['recipe']\n",
        "        return first_recipie\n",
        "    else:\n",
        "        print(\"Failed to retrieve recipie. Please enter new ingredient and try again.\")\n",
        "        return None\n",
        "\n"
      ],
      "metadata": {
        "id": "RHpov9SS6UB0"
      },
      "execution_count": 4,
      "outputs": []
    },
    {
      "cell_type": "code",
      "source": [
        "# Function to get calorie information about recipie(from EDAMAN Nutrition API)\n",
        "def get_calories(recipie):\n",
        "    url = f'https://api.edamam.com/api/nutrition-details?app_id=ed38725f&app_key=%2011de2d5dad1bc1a386dd00f8e81a18a9%09'\n",
        "\n",
        "    ingredients = recipie['ingredientLines']\n",
        "\n",
        "    recipie_url = recipie['url']\n",
        "\n",
        "    recipie_json = {\"title\": \"\", \"ingr\": ingredients, \"url\": recipie_url, \"summary\": \"\", \"yield\": \"\", \"time\": \"\", \"img\": \"\", \"prep\": \"\"}\n",
        "    response = requests.post(url, json = recipie_json)\n",
        "    if response.status_code == 200:\n",
        "        data = response.json()\n",
        "        return data['calories']\n",
        "    else:\n",
        "        print(\"Failed to retrieve recipie. Please enter new ingredient and try again.\")\n",
        "        return None\n"
      ],
      "metadata": {
        "id": "WR0XFDOMDhZi"
      },
      "execution_count": 5,
      "outputs": []
    },
    {
      "cell_type": "code",
      "source": [
        "#Final Calorie Counter Tool:\n",
        "def get_calories_for_recipie_ingredients(ingredient):\n",
        "    recipie = get_recipie(ingredient)\n",
        "    calories = get_calories(recipie)\n",
        "\n",
        "    if recipie:\n",
        "        recipie_title = recipie['label']\n",
        "        ingredients = recipie['ingredientLines']\n",
        "        return(recipie_title, ingredients, calories)\n",
        "    else:\n",
        "        return\n",
        "\n",
        "# User input for main ingredient\n",
        "def choose_recipie():\n",
        "    ingredient = input(\"What main ingredient would you like?(ex: beef, chicken, broccoli): \")\n",
        "    (recipie_title, ingredients, calories) = get_calories_for_recipie_ingredients(ingredient)\n",
        "\n",
        "    print(f'The top recipe for {ingredient} is {recipie_title}.')\n",
        "    print(f'The ingredients for this recipe are: {ingredients}.')\n",
        "    print(f'The total calories for this recipe is {calories}.')\n",
        "\n",
        "#Accept or Reject Recipie\n",
        "choice = \"\"\n",
        "\n",
        "while choice != \"no\":\n",
        "    choice = input(\"Would you like to choose an ingredient(yes/no)?\")\n",
        "    if choice == 'yes':\n",
        "        choose_recipie()\n",
        "    elif choice == 'no':\n",
        "        print('Thank you for using the calorie calculator. Have a great day.')\n",
        "\n"
      ],
      "metadata": {
        "id": "1G_9lWCIWQHc"
      },
      "execution_count": null,
      "outputs": []
    }
  ]
}